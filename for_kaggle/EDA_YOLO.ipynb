{
 "cells": [
  {
   "cell_type": "code",
   "execution_count": null,
   "metadata": {
    "colab": {
     "base_uri": "https://localhost:8080/"
    },
    "collapsed": true,
    "executionInfo": {
     "elapsed": 96443,
     "status": "ok",
     "timestamp": 1753534936084,
     "user": {
      "displayName": "Михаил Андреев",
      "userId": "06947524691935993617"
     },
     "user_tz": -180
    },
    "id": "fI3Qk4gZ0dOu",
    "outputId": "c0e29a58-d4d1-43dd-fc5f-9bcd73ca23c1"
   },
   "outputs": [],
   "source": [
    "!pip install ultralytics"
   ]
  },
  {
   "cell_type": "code",
   "execution_count": null,
   "metadata": {
    "id": "Ni93jIBFhogn"
   },
   "outputs": [],
   "source": [
    "from google.colab import drive\n",
    "drive.mount('/content/drive')"
   ]
  },
  {
   "cell_type": "code",
   "execution_count": null,
   "metadata": {
    "colab": {
     "base_uri": "https://localhost:8080/"
    },
    "collapsed": true,
    "executionInfo": {
     "elapsed": 15531,
     "status": "ok",
     "timestamp": 1753534951624,
     "user": {
      "displayName": "Михаил Андреев",
      "userId": "06947524691935993617"
     },
     "user_tz": -180
    },
    "id": "BsY06O8x0hv4",
    "outputId": "f093ebb2-776a-4530-f5f7-4bec0d1003fb"
   },
   "outputs": [],
   "source": [
    "!pip install roboflow"
   ]
  },
  {
   "cell_type": "code",
   "execution_count": null,
   "metadata": {
    "colab": {
     "base_uri": "https://localhost:8080/"
    },
    "executionInfo": {
     "elapsed": 10271,
     "status": "ok",
     "timestamp": 1753534961902,
     "user": {
      "displayName": "Михаил Андреев",
      "userId": "06947524691935993617"
     },
     "user_tz": -180
    },
    "id": "z1_hZkxS0nl7",
    "outputId": "eb87e3ff-c075-4589-b4fb-f078243a13f4"
   },
   "outputs": [],
   "source": [
    "import os\n",
    "import random\n",
    "import pandas as pd\n",
    "from PIL import Image\n",
    "import cv2\n",
    "from ultralytics import YOLO\n",
    "import numpy as np\n",
    "import matplotlib.pyplot as plt\n",
    "import seaborn as sns\n",
    "import pathlib\n",
    "import glob\n",
    "from tqdm.notebook import trange, tqdm\n",
    "import warnings\n",
    "warnings.filterwarnings('ignore')\n"
   ]
  },
  {
   "cell_type": "code",
   "execution_count": null,
   "metadata": {
    "colab": {
     "base_uri": "https://localhost:8080/"
    },
    "collapsed": true,
    "executionInfo": {
     "elapsed": 31040,
     "status": "ok",
     "timestamp": 1753630673310,
     "user": {
      "displayName": "Михаил Андреев",
      "userId": "06947524691935993617"
     },
     "user_tz": -180
    },
    "id": "Nl3RAnWg0r5j",
    "outputId": "d71f192b-7ed0-4473-b6b6-76b5538dd8e3"
   },
   "outputs": [],
   "source": [
    "!pip install roboflow\n",
    "\n",
    "from roboflow import Roboflow\n",
    "rf = Roboflow(api_key=\"ztRIZhXv75K1J97cjiQk\")\n",
    "project = rf.workspace(\"selfdriving-car-qtywx\").project(\"self-driving-cars-lfjou\")\n",
    "version = project.version(6)\n",
    "dataset = version.download(\"yolov8\")\n"
   ]
  },
  {
   "cell_type": "code",
   "execution_count": null,
   "metadata": {
    "colab": {
     "base_uri": "https://localhost:8080/",
     "height": 755
    },
    "executionInfo": {
     "elapsed": 2562,
     "status": "ok",
     "timestamp": 1753535079710,
     "user": {
      "displayName": "Михаил Андреев",
      "userId": "06947524691935993617"
     },
     "user_tz": -180
    },
    "id": "iXwO-_DN0vdZ",
    "outputId": "76611f9a-9a8f-418b-ddc3-5160bf16eee5"
   },
   "outputs": [],
   "source": [
    "image_dir = './Self-Driving-Cars-6/train/images'\n",
    "\n",
    "num_samples = 9\n",
    "image_files = os.listdir(image_dir)\n",
    "\n",
    "rand_images = random.sample(image_files, num_samples)\n",
    "\n",
    "fig, axes = plt.subplots(3, 3, figsize=(12, 12))\n",
    "\n",
    "for i in range(num_samples):\n",
    "  image = rand_images[i]\n",
    "  ax = axes[i // 3, i % 3]\n",
    "  ax.imshow(plt.imread(os.path.join(image_dir, image)))\n",
    "  ax.set_title(f'image {i + 1}')\n",
    "  ax.axis('off')\n",
    "\n",
    "plt.tight_layout()\n",
    "plt.show()"
   ]
  },
  {
   "cell_type": "code",
   "execution_count": null,
   "metadata": {
    "colab": {
     "base_uri": "https://localhost:8080/"
    },
    "executionInfo": {
     "elapsed": 22,
     "status": "ok",
     "timestamp": 1753535093175,
     "user": {
      "displayName": "Михаил Андреев",
      "userId": "06947524691935993617"
     },
     "user_tz": -180
    },
    "id": "B7-00pbS1bQ-",
    "outputId": "a12eedc8-177b-4197-cb7c-4acbe2f11170"
   },
   "outputs": [],
   "source": [
    "img = cv2.imread('./Self-Driving-Cars-6/train/images/00000_00000_00005_png.rf.998f471ba534c1f2ccafdafcd63c12a4.jpg')\n",
    "h, w, c = img.shape\n",
    "print(f\"The image has dimensions {w}x{h} and {c} channels.\")"
   ]
  },
  {
   "cell_type": "code",
   "execution_count": null,
   "metadata": {
    "colab": {
     "base_uri": "https://localhost:8080/"
    },
    "executionInfo": {
     "elapsed": 2172,
     "status": "ok",
     "timestamp": 1753535103313,
     "user": {
      "displayName": "Михаил Андреев",
      "userId": "06947524691935993617"
     },
     "user_tz": -180
    },
    "id": "13-g1kw31hh6",
    "outputId": "f261901c-df5e-4a2b-a447-dec01db03882"
   },
   "outputs": [],
   "source": [
    "model = YOLO(\"yolov8n.pt\")\n"
   ]
  },
  {
   "cell_type": "code",
   "execution_count": null,
   "metadata": {
    "colab": {
     "base_uri": "https://localhost:8080/",
     "height": 504
    },
    "executionInfo": {
     "elapsed": 8117,
     "status": "ok",
     "timestamp": 1753535119695,
     "user": {
      "displayName": "Михаил Андреев",
      "userId": "06947524691935993617"
     },
     "user_tz": -180
    },
    "id": "KqPt689O1jfN",
    "outputId": "34bd9ec9-a8bb-4259-e7c9-553c11a6cf7c"
   },
   "outputs": [],
   "source": [
    "img = '/content/Self-Driving-Cars-6/test/images/FisheyeCamera_1_00018_png.rf.765c48e66c9a0a7d70f6e4b0af00494c.jpg'\n",
    "result_pred = model.predict(source=img, imgsz=(640))\n",
    "plot = result_pred[0].plot()\n",
    "plot = cv2.cvtColor(plot, cv2.COLOR_BGR2RGB)\n",
    "display(Image.fromarray(plot))"
   ]
  },
  {
   "cell_type": "code",
   "execution_count": null,
   "metadata": {
    "colab": {
     "base_uri": "https://localhost:8080/"
    },
    "collapsed": true,
    "executionInfo": {
     "elapsed": 16909,
     "status": "ok",
     "timestamp": 1753535143713,
     "user": {
      "displayName": "Михаил Андреев",
      "userId": "06947524691935993617"
     },
     "user_tz": -180
    },
    "id": "CvHdv1421mCP",
    "outputId": "b570f89f-6ff3-460c-d32e-def3c0d91cd5"
   },
   "outputs": [],
   "source": [
    "!pip install --upgrade ultralytics ray"
   ]
  },
  {
   "cell_type": "code",
   "execution_count": null,
   "metadata": {
    "colab": {
     "base_uri": "https://localhost:8080/"
    },
    "executionInfo": {
     "elapsed": 28791891,
     "status": "ok",
     "timestamp": 1753564947004,
     "user": {
      "displayName": "Михаил Андреев",
      "userId": "06947524691935993617"
     },
     "user_tz": -180
    },
    "id": "1zkiAk8s1pwL",
    "outputId": "abf26a14-a7a0-4c49-eb3a-de391271c935"
   },
   "outputs": [],
   "source": [
    "fin_model = YOLO(\"yolov8n.pt\")\n",
    "\n",
    "result_model = fin_model.train(data=\"/content/Self-Driving-Cars-6/data.yaml\", epochs=10, batch = -1, optimizer = 'auto')"
   ]
  },
  {
   "cell_type": "code",
   "execution_count": null,
   "metadata": {
    "colab": {
     "base_uri": "https://localhost:8080/",
     "height": 1000
    },
    "executionInfo": {
     "elapsed": 3137,
     "status": "ok",
     "timestamp": 1753565404310,
     "user": {
      "displayName": "Михаил Андреев",
      "userId": "06947524691935993617"
     },
     "user_tz": -180
    },
    "id": "OfgILduj142L",
    "outputId": "797256be-5002-4150-df3a-022791f424d3"
   },
   "outputs": [],
   "source": [
    "import os\n",
    "import cv2\n",
    "import matplotlib.pyplot as plt\n",
    "\n",
    "def display_images(post_training_path, image_files):\n",
    "  for image_file in image_files:\n",
    "    image_path = os.path.join(post_training_path, image_file)\n",
    "    img = cv2.imread(image_path)\n",
    "    img = cv2.cvtColor(img, cv2.COLOR_BGR2RGB)\n",
    "\n",
    "    plt.figure(figsize=(10, 10), dpi=120)\n",
    "    plt.imshow(img)\n",
    "    plt.axis('off')\n",
    "    plt.show()\n",
    "\n",
    "\n",
    "image_files = [\n",
    "    'confusion_matrix_normalized.png',\n",
    "    'BoxF1_curve.png',\n",
    "    'BoxP_curve.png',\n",
    "    'BoxR_curve.png',\n",
    "    'BoxPR_curve.png',\n",
    "    'results.png'\n",
    "]\n",
    "\n",
    "post_training_path = '/content/runs/detect/train2'\n",
    "\n",
    "\n",
    "display_images(post_training_path, image_files)\n"
   ]
  },
  {
   "cell_type": "code",
   "execution_count": null,
   "metadata": {
    "colab": {
     "base_uri": "https://localhost:8080/",
     "height": 396
    },
    "executionInfo": {
     "elapsed": 81,
     "status": "ok",
     "timestamp": 1753565411304,
     "user": {
      "displayName": "Михаил Андреев",
      "userId": "06947524691935993617"
     },
     "user_tz": -180
    },
    "id": "SAx0hiYz17Ea",
    "outputId": "a7492794-ab2d-4e7e-fa51-416396cab2c6"
   },
   "outputs": [],
   "source": [
    "result_model = pd.read_csv('/content/runs/detect/train2/results.csv')\n",
    "\n",
    "result_model.tail(10)"
   ]
  },
  {
   "cell_type": "code",
   "execution_count": null,
   "metadata": {
    "colab": {
     "base_uri": "https://localhost:8080/",
     "height": 736
    },
    "executionInfo": {
     "elapsed": 2104,
     "status": "ok",
     "timestamp": 1753565555032,
     "user": {
      "displayName": "Михаил Андреев",
      "userId": "06947524691935993617"
     },
     "user_tz": -180
    },
    "id": "BVCRzs1o18KA",
    "outputId": "1dc0921a-4eae-4a70-8807-7f2177498a5f"
   },
   "outputs": [],
   "source": [
    "result_model.columns = result_model.columns.str.strip()\n",
    "\n",
    "fig, axs = plt.subplots(nrows=5, ncols=2, figsize=(15, 15))\n",
    "\n",
    "lst = ['train/box_loss', 'train/cls_loss', 'train/dfl_loss', 'metrics/precision(B)',\n",
    "       'metrics/recall(B)', 'metrics/mAP50(B)', 'metrics/mAP50-95(B)',\n",
    "       'val/box_loss', 'val/cls_loss', 'val/dfl_loss']\n",
    "for i in range(len(lst)):\n",
    "  sns.lineplot(x='epoch', y=lst[i], data=result_model, ax=axs[i // 2, i % 2])\n",
    "\n",
    "for i in range(len(lst)):\n",
    "  if i < 3:\n",
    "    axs[i // 2, i % 2].set(title=f\"Train {lst[i]}\")\n",
    "  elif i < 7:\n",
    "    axs[i // 2, i % 2].set(title=f\"Mectrics {lst[i]}\")\n",
    "  else:\n",
    "    axs[i // 2, i % 2].set(title=f\"Validation {lst[i]}\")\n",
    "\n",
    "plt.suptitle('Training Metrics and Loss', fontsize=24)\n",
    "plt.subplots_adjust(0.8)\n",
    "plt.tight_layout()\n",
    "plt.show()"
   ]
  },
  {
   "cell_type": "code",
   "execution_count": null,
   "metadata": {
    "colab": {
     "base_uri": "https://localhost:8080/",
     "height": 1000
    },
    "executionInfo": {
     "elapsed": 186988,
     "status": "error",
     "timestamp": 1753565796766,
     "user": {
      "displayName": "Михаил Андреев",
      "userId": "06947524691935993617"
     },
     "user_tz": -180
    },
    "id": "2xdWyw4319hG",
    "outputId": "634926ba-66d1-480c-85c1-298b60828969"
   },
   "outputs": [],
   "source": [
    "val_model = YOLO('/content/runs/detect/train2/weights/best.pt')\n",
    "\n",
    "metrics = val_model.val(split = 'val')\n",
    "\n"
   ]
  },
  {
   "cell_type": "code",
   "execution_count": null,
   "metadata": {
    "colab": {
     "base_uri": "https://localhost:8080/"
    },
    "executionInfo": {
     "elapsed": 16,
     "status": "ok",
     "timestamp": 1753565940961,
     "user": {
      "displayName": "Михаил Андреев",
      "userId": "06947524691935993617"
     },
     "user_tz": -180
    },
    "id": "Zi_6WyH51_I5",
    "outputId": "cc7c3c7e-7951-4037-df0d-b316fa7fa248"
   },
   "outputs": [],
   "source": [
    "print(\"Precision:\", metrics.box.p)\n",
    "print(\"Recall:\", metrics.box.r)\n",
    "print(\"mAP50:\", metrics.box.map50)\n",
    "print(\"mAP50-95:\", metrics.box.map)"
   ]
  },
  {
   "cell_type": "code",
   "execution_count": null,
   "metadata": {
    "colab": {
     "base_uri": "https://localhost:8080/",
     "height": 1000,
     "output_embedded_package_id": "1MTMJ0oJrto2wK9MYGKGdjSCGCi05YTlC"
    },
    "executionInfo": {
     "elapsed": 6230,
     "status": "ok",
     "timestamp": 1753566046156,
     "user": {
      "displayName": "Михаил Андреев",
      "userId": "06947524691935993617"
     },
     "user_tz": -180
    },
    "id": "hxFSfC9phKId",
    "outputId": "515ed627-eec2-4d15-b35e-2fae00642576"
   },
   "outputs": [],
   "source": [
    "def normalaze(image):\n",
    "  return image / 255.0\n",
    "\n",
    "def resize(image, size):\n",
    "  return cv2.resize(image, dsize=size)\n",
    "\n",
    "\n",
    "dataset_path = '/content/Self-Driving-Cars-6'\n",
    "\n",
    "valid_images_path = os.path.join(dataset_path, 'test', 'images')\n",
    "\n",
    "image_files = [file for file in os.listdir(valid_images_path)\n",
    "if file.endswith('.jpg')]\n",
    "\n",
    "if len(image_files) > 0:\n",
    "  num_images = len(image_files)\n",
    "  step_size = max(1, num_images // 9)\n",
    "\n",
    "  selected_images = [image_files[i] for i in range(0, num_images, step_size)]\n",
    "\n",
    "  fig, axes = plt.subplots(3, 3, figsize=(20, 21))\n",
    "  fig.suptitle('Validation Set Inferencees', fontsize=24)\n",
    "\n",
    "  for i, ax in enumerate(axes.flatten()):\n",
    "    if i < len(selected_images):\n",
    "      image_path = os.path.join(valid_images_path, selected_images[i])\n",
    "\n",
    "      image = cv2.imread(image_path)\n",
    "\n",
    "      if image is not None:\n",
    "        resized_images = resize(image, size=(640, 640))\n",
    "\n",
    "        normalazed_images = normalaze(resized_images)\n",
    "\n",
    "        normalazed_images_uint8 = (normalazed_images * 255).astype(np.uint8)\n",
    "\n",
    "        results = val_model.predict(source=normalazed_images_uint8,\n",
    "                                    imgsz=640, conf=0.5)\n",
    "\n",
    "        annotated_image = results[0].plot(line_width=1)\n",
    "\n",
    "        annotated_image_rgb = cv2.cvtColor(annotated_image, cv2.COLOR_BGR2RGB)\n",
    "\n",
    "        ax.imshow(annotated_image_rgb)\n",
    "\n",
    "      else:\n",
    "        print(f\"Failed to load image {image_path}\")\n",
    "\n",
    "    ax.axis('off')\n",
    "\n",
    "  plt.tight_layout()\n",
    "  plt.show()\n",
    "\n",
    "\n",
    "\n"
   ]
  },
  {
   "cell_type": "code",
   "execution_count": null,
   "metadata": {
    "colab": {
     "base_uri": "https://localhost:8080/",
     "height": 378
    },
    "executionInfo": {
     "elapsed": 8042,
     "status": "ok",
     "timestamp": 1753566061423,
     "user": {
      "displayName": "Михаил Андреев",
      "userId": "06947524691935993617"
     },
     "user_tz": -180
    },
    "id": "ZpbkFixT3c5S",
    "outputId": "9cc37612-1b98-482c-f5c1-b0a76f0ed820"
   },
   "outputs": [],
   "source": [
    "val_model.export(format=\"onnx\")"
   ]
  },
  {
   "cell_type": "code",
   "execution_count": null,
   "metadata": {
    "id": "jNyv74tiwGyR"
   },
   "outputs": [],
   "source": []
  }
 ],
 "metadata": {
  "colab": {
   "authorship_tag": "ABX9TyOx9VaSagiy+YdPyOhlhYBL",
   "mount_file_id": "1xvUd0-u3yXBwzK8elEnUz7oMLD59VHNA",
   "provenance": []
  },
  "kernelspec": {
   "display_name": "Python 3",
   "name": "python3"
  },
  "language_info": {
   "name": "python"
  }
 },
 "nbformat": 4,
 "nbformat_minor": 0
}
