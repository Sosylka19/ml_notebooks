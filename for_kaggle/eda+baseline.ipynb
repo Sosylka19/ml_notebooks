{
 "cells": [
  {
   "cell_type": "markdown",
   "id": "c9b4f174",
   "metadata": {},
   "source": [
    "### 0.87089 ROC-AUC \n",
    "score on https://www.kaggle.com/competitions/playground-series-s5e3/overview\n",
    "\n",
    "```catboost(fine tuning)```"
   ]
  },
  {
   "cell_type": "code",
   "execution_count": null,
   "id": "42b132f3",
   "metadata": {},
   "outputs": [],
   "source": [
    "import pandas as pd\n",
    "import matplotlib.pyplot as plt\n",
    "import seaborn as sns\n",
    "import numpy as np"
   ]
  },
  {
   "cell_type": "code",
   "execution_count": null,
   "id": "62b5bcc6",
   "metadata": {},
   "outputs": [],
   "source": [
    "train_data = pd.read_csv('data/train.csv')\n",
    "test_data = pd.read_csv('data/test.csv')"
   ]
  },
  {
   "cell_type": "code",
   "execution_count": null,
   "id": "e17d2427",
   "metadata": {},
   "outputs": [],
   "source": [
    "train_data.head()\n",
    "# Change maxtemp, mintemp and temperature colummns to one"
   ]
  },
  {
   "cell_type": "code",
   "execution_count": null,
   "id": "839925e2",
   "metadata": {},
   "outputs": [],
   "source": [
    "train_data.info()"
   ]
  },
  {
   "cell_type": "code",
   "execution_count": null,
   "id": "ae80f43c",
   "metadata": {},
   "outputs": [],
   "source": [
    "sns.heatmap(train_data.corr(), annot=True, fmt='.2f', cmap='coolwarm')"
   ]
  },
  {
   "cell_type": "code",
   "execution_count": null,
   "id": "cb3ff637",
   "metadata": {},
   "outputs": [],
   "source": [
    "class Preproccessing:\n",
    "    def __init__(self, data):\n",
    "        self.data = data\n",
    "\n",
    "    def transform(self, columns_to_drop=None) -> pd.DataFrame:\n",
    "        self.data[\"temp_diff\"] = self.data[\"maxtemp\"] - self.data[\"mintemp\"]\n",
    "\n",
    "        if columns_to_drop:\n",
    "            self.data = self.data.drop(columns=columns_to_drop, axis=1)\n",
    "\n",
    "        return self.data\n"
   ]
  },
  {
   "cell_type": "code",
   "execution_count": null,
   "id": "9a62adf4",
   "metadata": {},
   "outputs": [],
   "source": [
    "train_data = Preproccessing(train_data).transform(columns_to_drop=[\"maxtemp\", \"mintemp\", \"dewpoint\", \"id\", \"day\"])"
   ]
  },
  {
   "cell_type": "code",
   "execution_count": null,
   "id": "d80e81ab",
   "metadata": {},
   "outputs": [],
   "source": [
    "train_data.head()"
   ]
  },
  {
   "cell_type": "code",
   "execution_count": null,
   "id": "3f50fb12",
   "metadata": {},
   "outputs": [],
   "source": [
    "sns.heatmap(train_data.corr(), annot=True, fmt='.2f', cmap='coolwarm')"
   ]
  },
  {
   "cell_type": "code",
   "execution_count": null,
   "id": "5b74d7d9",
   "metadata": {},
   "outputs": [],
   "source": [
    "#check target distribution\n",
    "plt.hist(train_data['rainfall'], bins=3)"
   ]
  },
  {
   "cell_type": "code",
   "execution_count": null,
   "id": "fc41c43e",
   "metadata": {},
   "outputs": [],
   "source": [
    "sns.pairplot(train_data, hue=\"rainfall\")"
   ]
  },
  {
   "cell_type": "markdown",
   "id": "c7ee3d81",
   "metadata": {},
   "source": [
    "Target distributed unevenly, there are not uniform distribution, no linear dependencies"
   ]
  },
  {
   "cell_type": "code",
   "execution_count": null,
   "id": "da61e435",
   "metadata": {},
   "outputs": [],
   "source": [
    "fig, axs = plt.subplots(2, 5, figsize=(20, 10))\n",
    "\n",
    "columns = train_data.columns.values\n",
    "print(columns)\n",
    "for i in range(9):\n",
    "    sns.boxplot(train_data[columns[i]], ax=axs[i%2, i%5])\n",
    "    axs[i%2, i%5].set_title(columns[i])\n",
    "plt.show()"
   ]
  },
  {
   "cell_type": "markdown",
   "id": "5ff1cf91",
   "metadata": {},
   "source": [
    "Columns with emissions: cloud, pressure, windspeed, humidity, temp_dif"
   ]
  },
  {
   "cell_type": "code",
   "execution_count": null,
   "id": "4f087dfb",
   "metadata": {},
   "outputs": [],
   "source": [
    "# train_data.loc[train_data.pressure > 1030, \"pressure\"] = train_data.loc[train_data.pressure > 1030, \"pressure\"].(train_data.pressure.mean())\n",
    "train_data.loc[train_data.pressure > 1030, \"pressure\"] = train_data.pressure.mean()\n",
    "train_data.loc[train_data.cloud < 20, \"cloud\"] = train_data.cloud.mean()\n",
    "train_data.loc[train_data.windspeed > 47, \"windspeed\"] = train_data.windspeed.mean()\n",
    "train_data.loc[train_data.humidity < 63, \"humidity\"] = train_data.humidity.mean()\n",
    "train_data.loc[train_data.temp_diff > 8, \"temp_diff\"] = train_data.temp_diff.mean()\n",
    "train_data.loc[train_data.temp_diff < 0.5, \"temp_diff\"] = train_data.temp_diff.mean()"
   ]
  },
  {
   "cell_type": "code",
   "execution_count": null,
   "id": "c5aa3a36",
   "metadata": {},
   "outputs": [],
   "source": [
    "fig, axs = plt.subplots(2, 5, figsize=(20, 10))\n",
    "\n",
    "columns = train_data.columns.values\n",
    "print(columns)\n",
    "for i in range(9):\n",
    "    sns.boxplot(train_data[columns[i]], ax=axs[i%2, i%5])\n",
    "    axs[i%2, i%5].set_title(columns[i])\n",
    "plt.show()"
   ]
  },
  {
   "cell_type": "code",
   "execution_count": null,
   "id": "4f56f30a",
   "metadata": {},
   "outputs": [],
   "source": [
    "from sklearn.model_selection import train_test_split\n",
    "from catboost import CatBoostClassifier\n",
    "from sklearn.metrics import roc_auc_score, f1_score\n"
   ]
  },
  {
   "cell_type": "code",
   "execution_count": null,
   "id": "3b590f6f",
   "metadata": {},
   "outputs": [],
   "source": [
    "test_data = Preproccessing(test_data).transform(columns_to_drop=[\"maxtemp\", \"mintemp\", \"dewpoint\", \"id\", \"day\"])"
   ]
  },
  {
   "cell_type": "code",
   "execution_count": null,
   "id": "0a059d53",
   "metadata": {},
   "outputs": [],
   "source": [
    "from collections import Counter\n",
    "\n",
    "counts = Counter(train_data['rainfall'])\n",
    "majority = max(counts.values())\n",
    "weights = [majority / counts[c] for c in sorted(counts)]\n",
    "weights"
   ]
  },
  {
   "cell_type": "code",
   "execution_count": null,
   "id": "6fe4ab3e",
   "metadata": {},
   "outputs": [],
   "source": [
    "catboost = CatBoostClassifier(iterations=1000, loss_function='Logloss', verbose=0, class_weights=weights, random_seed=42)"
   ]
  },
  {
   "cell_type": "code",
   "execution_count": null,
   "id": "226999f7",
   "metadata": {},
   "outputs": [],
   "source": [
    "params = {\n",
    "    'learning_rate': [1e-2, 1e-1, 0.3],\n",
    "    'depth': np.linspace(5, 9, 5, dtype=int),\n",
    "    'l2_leaf_reg': [1e-1, 1, 10]\n",
    "}"
   ]
  },
  {
   "cell_type": "code",
   "execution_count": null,
   "id": "36defebc",
   "metadata": {},
   "outputs": [],
   "source": [
    "catboost.grid_search(\n",
    "    param_grid=params,\n",
    "    X=train_data.drop(columns=['rainfall']),\n",
    "    y=train_data['rainfall'],\n",
    "    cv=5,\n",
    "    plot=True,\n",
    "    verbose=False,\n",
    "    train_size=0.8\n",
    ")"
   ]
  },
  {
   "cell_type": "code",
   "execution_count": null,
   "id": "4485494e",
   "metadata": {},
   "outputs": [],
   "source": [
    "catboost.fit(train_data.drop(columns=['rainfall']), train_data['rainfall'], verbose=0)"
   ]
  },
  {
   "cell_type": "code",
   "execution_count": null,
   "id": "e06edec5",
   "metadata": {},
   "outputs": [],
   "source": [
    "preds = catboost.predict(train_data.drop(columns=['rainfall']))"
   ]
  },
  {
   "cell_type": "code",
   "execution_count": null,
   "id": "d0572afd",
   "metadata": {},
   "outputs": [],
   "source": [
    "score = roc_auc_score(train_data['rainfall'], preds)"
   ]
  },
  {
   "cell_type": "code",
   "execution_count": null,
   "id": "78add91d",
   "metadata": {},
   "outputs": [],
   "source": [
    "score"
   ]
  },
  {
   "cell_type": "code",
   "execution_count": null,
   "id": "9305171b",
   "metadata": {},
   "outputs": [],
   "source": [
    "prediction = catboost.predict_proba(test_data)"
   ]
  },
  {
   "cell_type": "code",
   "execution_count": null,
   "id": "eae83163",
   "metadata": {},
   "outputs": [],
   "source": [
    "my_submission = pd.read_csv('data/sample_submission.csv')\n",
    "my_submission.rainfall = prediction[:, 1]\n",
    "my_submission.to_csv('data/submission.csv', index=False)"
   ]
  },
  {
   "cell_type": "code",
   "execution_count": null,
   "id": "311fa702",
   "metadata": {},
   "outputs": [],
   "source": []
  }
 ],
 "metadata": {
  "kernelspec": {
   "display_name": "ml_env",
   "language": "python",
   "name": "python3"
  },
  "language_info": {
   "codemirror_mode": {
    "name": "ipython",
    "version": 3
   },
   "file_extension": ".py",
   "mimetype": "text/x-python",
   "name": "python",
   "nbconvert_exporter": "python",
   "pygments_lexer": "ipython3",
   "version": "3.11.4"
  }
 },
 "nbformat": 4,
 "nbformat_minor": 5
}
