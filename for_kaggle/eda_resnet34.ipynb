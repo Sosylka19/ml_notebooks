{
 "cells": [
  {
   "cell_type": "code",
   "execution_count": null,
   "id": "990e94c5",
   "metadata": {
    "executionInfo": {
     "elapsed": 16,
     "status": "ok",
     "timestamp": 1753377719355,
     "user": {
      "displayName": "Александр Андреев",
      "userId": "17331427601372382696"
     },
     "user_tz": -180
    },
    "id": "990e94c5"
   },
   "outputs": [],
   "source": [
    "from torchvision.datasets import GTSRB\n",
    "from torch.utils.data import DataLoader\n",
    "import matplotlib.pyplot as plt\n",
    "import numpy as np\n",
    "import torch\n",
    "from torchvision import transforms\n",
    "import json\n",
    "from  tqdm import tqdm\n",
    "import torch.nn as nn\n",
    "import pandas as pd\n",
    "from torch.utils.data import random_split\n",
    "import torch.nn.functional as F"
   ]
  },
  {
   "cell_type": "code",
   "execution_count": null,
   "id": "0438815c",
   "metadata": {
    "executionInfo": {
     "elapsed": 45,
     "status": "ok",
     "timestamp": 1753374791668,
     "user": {
      "displayName": "Александр Андреев",
      "userId": "17331427601372382696"
     },
     "user_tz": -180
    },
    "id": "0438815c"
   },
   "outputs": [],
   "source": [
    "BATCH_SIZE = 64\n",
    "IMAGE_SIZE = 224\n",
    "DEVICE = torch.device(\"mps\")\n",
    "n_classes = 43"
   ]
  },
  {
   "cell_type": "code",
   "execution_count": null,
   "id": "61b35c4f",
   "metadata": {
    "executionInfo": {
     "elapsed": 12,
     "status": "ok",
     "timestamp": 1753379705692,
     "user": {
      "displayName": "Александр Андреев",
      "userId": "17331427601372382696"
     },
     "user_tz": -180
    },
    "id": "61b35c4f"
   },
   "outputs": [],
   "source": [
    "transform = transforms.Compose([\n",
    "    transforms.Resize([IMAGE_SIZE, IMAGE_SIZE]),\n",
    "    transforms.ToTensor(),\n",
    "    transforms.Normalize([0.485, 0.456, 0.406], [0.229, 0.224, 0.225])\n",
    "])\n"
   ]
  },
  {
   "cell_type": "code",
   "execution_count": null,
   "id": "9a7282be",
   "metadata": {
    "executionInfo": {
     "elapsed": 123,
     "status": "ok",
     "timestamp": 1753379706021,
     "user": {
      "displayName": "Александр Андреев",
      "userId": "17331427601372382696"
     },
     "user_tz": -180
    },
    "id": "9a7282be"
   },
   "outputs": [],
   "source": [
    "train_dataset = GTSRB(root='../data', split='train', download=True, transform=transform)\n",
    "test_dataset = GTSRB(root='../data', split='test', download=True, transform=transform)"
   ]
  },
  {
   "cell_type": "code",
   "execution_count": null,
   "id": "e348a3d9",
   "metadata": {
    "executionInfo": {
     "elapsed": 15,
     "status": "ok",
     "timestamp": 1753379715437,
     "user": {
      "displayName": "Александр Андреев",
      "userId": "17331427601372382696"
     },
     "user_tz": -180
    },
    "id": "e348a3d9"
   },
   "outputs": [],
   "source": [
    "train_loader = DataLoader(train_dataset, batch_size=BATCH_SIZE, shuffle=True)"
   ]
  },
  {
   "cell_type": "code",
   "execution_count": null,
   "id": "fwSg4MklY6IB",
   "metadata": {
    "executionInfo": {
     "elapsed": 10,
     "status": "ok",
     "timestamp": 1753379715571,
     "user": {
      "displayName": "Александр Андреев",
      "userId": "17331427601372382696"
     },
     "user_tz": -180
    },
    "id": "fwSg4MklY6IB"
   },
   "outputs": [],
   "source": [
    "test_loader = DataLoader(test_dataset, batch_size=BATCH_SIZE)"
   ]
  },
  {
   "cell_type": "code",
   "execution_count": null,
   "id": "d8f0233a",
   "metadata": {
    "executionInfo": {
     "elapsed": 9,
     "status": "ok",
     "timestamp": 1753379715979,
     "user": {
      "displayName": "Александр Андреев",
      "userId": "17331427601372382696"
     },
     "user_tz": -180
    },
    "id": "d8f0233a"
   },
   "outputs": [],
   "source": [
    "with open('../data/model/labels/classes_name.json', 'r') as file:\n",
    "    classes_names = json.load(file)"
   ]
  },
  {
   "cell_type": "code",
   "execution_count": null,
   "id": "ae0b4159",
   "metadata": {
    "executionInfo": {
     "elapsed": 14,
     "status": "ok",
     "timestamp": 1753379716356,
     "user": {
      "displayName": "Александр Андреев",
      "userId": "17331427601372382696"
     },
     "user_tz": -180
    },
    "id": "ae0b4159"
   },
   "outputs": [],
   "source": [
    "def imshow(inp, title=None, plt_ax=plt, default=False):\n",
    "    \"\"\"Imshow для нормализированных тензоров\"\"\"\n",
    "    inp = inp.numpy().transpose((1,2,0))\n",
    "\n",
    "    mean = np.array([0.485, 0.456, 0.406])\n",
    "    std = np.array([0.229, 0.224, 0.225])\n",
    "    inp = std * inp + mean # Денормализация\n",
    "    inp = np.clip(inp, 0, 1)\n",
    "    plt_ax.imshow(inp)\n",
    "    if title is not None:\n",
    "        plt_ax.set_title(title)\n",
    "    plt_ax.grid(False)"
   ]
  },
  {
   "cell_type": "code",
   "execution_count": null,
   "id": "8cb4ea6c",
   "metadata": {
    "colab": {
     "base_uri": "https://localhost:8080/",
     "height": 925
    },
    "executionInfo": {
     "elapsed": 1991,
     "status": "ok",
     "timestamp": 1753379719724,
     "user": {
      "displayName": "Александр Андреев",
      "userId": "17331427601372382696"
     },
     "user_tz": -180
    },
    "id": "8cb4ea6c",
    "outputId": "8529b3f6-4050-4fd6-fa08-39ab2d73ede5"
   },
   "outputs": [],
   "source": [
    "inputs, classes = next(iter(train_loader))\n",
    "\n",
    "fig, ax = plt.subplots(3, 3, figsize=(12, 12))\n",
    "\n",
    "imgs_idx = np.random.randint(1, 100, 9)\n",
    "row = 1\n",
    "\n",
    "for i in range(9):\n",
    "    img = inputs[i]\n",
    "    label = classes[i].item()\n",
    "    # ax[i % 3][row - 1].imshow(img)\n",
    "    # ax[i % 3][row - 1].set_title(classes_names[str(label)])\n",
    "    imshow(img, title=str(label), plt_ax=ax[i % 3][row - 1])\n",
    "    if (i + 1) % 3 == 0: row+=1\n"
   ]
  },
  {
   "cell_type": "code",
   "execution_count": null,
   "id": "f128a44d",
   "metadata": {
    "executionInfo": {
     "elapsed": 51,
     "status": "ok",
     "timestamp": 1753379743174,
     "user": {
      "displayName": "Александр Андреев",
      "userId": "17331427601372382696"
     },
     "user_tz": -180
    },
    "id": "f128a44d"
   },
   "outputs": [],
   "source": [
    "def train(train_dataset, val_dataset, model, epochs, batch_size,\n",
    "          optimiser, criterion):\n",
    "      train_loader = DataLoader(train_dataset, batch_size=batch_size, shuffle=True)\n",
    "      val_loader = DataLoader(val_dataset, batch_size=batch_size)\n",
    "\n",
    "      history = []\n",
    "      log_template = \"\\nEpoch {ep:03d} train_loss: {t_loss:0.4f} \" \\\n",
    "      \"val_loss {v_loss:0.4f} train_acc {t_acc:0.4f} val_acc {v_acc:0.4f}\"\n",
    "\n",
    "      with tqdm(desc=\"epoch\", total=epochs) as pbar_outer:\n",
    "            opt = optimiser\n",
    "            criterion = criterion\n",
    "            # scheduler = ReduceLROnPlateau(opt, 'min')\n",
    "\n",
    "            for epoch in range(epochs):\n",
    "                  train_loss, train_acc = fit_epoch(model, train_loader, criterion, opt)\n",
    "                  print(\"loss\", train_loss)\n",
    "\n",
    "                  val_loss, val_acc = eval_epoch(model, val_loader, criterion)\n",
    "                  history.append((train_loss, train_acc, val_loss, val_acc))\n",
    "\n",
    "                  # scheduler.step(val_loss)\n",
    "\n",
    "                  pbar_outer.update(1)\n",
    "                  tqdm.write(log_template.format(ep=epoch+1, t_loss=train_loss, \\\n",
    "                                                 v_loss=val_loss,\n",
    "                                                 t_acc=train_acc, v_acc=val_acc))\n",
    "\n",
    "      return history\n",
    "\n",
    "def fit_epoch(model, train_loader, criterion, optimizer):\n",
    "      running_loss = 0.0\n",
    "      running_corrects = 0\n",
    "      processed_data = 0\n",
    "\n",
    "      for inputs, labels in train_loader:\n",
    "            inputs = inputs.to(DEVICE)\n",
    "            labels = labels.to(DEVICE)\n",
    "            optimizer.zero_grad()\n",
    "\n",
    "            outputs = model(inputs)\n",
    "            loss = criterion(outputs, labels)\n",
    "            loss.backward()\n",
    "            optimizer.step()\n",
    "            preds = torch.argmax(outputs, 1)\n",
    "            running_loss += loss.item() * inputs.size(0)\n",
    "            running_corrects += torch.sum(preds == labels.data)\n",
    "            processed_data += inputs.size(0)\n",
    "\n",
    "      train_loss = running_loss / processed_data\n",
    "      train_acc = running_corrects.cpu().numpy() / processed_data\n",
    "\n",
    "      return train_loss, train_acc\n",
    "\n",
    "def eval_epoch(model, val_loader, criterion):\n",
    "      model.eval()\n",
    "      running_loss = 0.0\n",
    "      running_corrects = 0\n",
    "      processed_size = 0\n",
    "\n",
    "      for inputs, labels in val_loader:\n",
    "            inputs = inputs.to(DEVICE)\n",
    "            labels = labels.to(DEVICE)\n",
    "\n",
    "            with torch.set_grad_enabled(False):\n",
    "                  outputs = model(inputs)\n",
    "                  loss = criterion(outputs, labels)\n",
    "                  preds = torch.argmax(outputs, 1)\n",
    "\n",
    "            running_loss += loss.item() * inputs.size(0)\n",
    "            running_corrects += torch.sum(preds==labels.data)\n",
    "            processed_size += inputs.size(0)\n",
    "      val_loss = running_loss / processed_size\n",
    "      val_acc =running_corrects.float() / processed_size\n",
    "      return val_loss, val_acc\n",
    "\n",
    "\n",
    "def predict(model, test_loader, device='mps'):\n",
    "      model.eval()\n",
    "      model.to(device)\n",
    "      all_probs = []\n",
    "\n",
    "      with torch.no_grad():\n",
    "            for inputs, _ in test_loader:\n",
    "                  inputs = inputs.to(device)\n",
    "\n",
    "                  outputs = model(inputs)\n",
    "                  probs = F.softmax(outputs, dim=1)\n",
    "                  all_probs.append(probs.cpu())\n",
    "      all_probs = torch.cat(all_probs, dim=0)\n",
    "\n",
    "      predicted_classes = torch.argmax(all_probs, dim=1)\n",
    "\n",
    "      return predicted_classes\n",
    "\n"
   ]
  },
  {
   "cell_type": "code",
   "execution_count": null,
   "id": "bthumsDZySfZ",
   "metadata": {
    "executionInfo": {
     "elapsed": 24,
     "status": "ok",
     "timestamp": 1753379745373,
     "user": {
      "displayName": "Александр Андреев",
      "userId": "17331427601372382696"
     },
     "user_tz": -180
    },
    "id": "bthumsDZySfZ"
   },
   "outputs": [],
   "source": [
    "train_size = int(0.8 * len(train_dataset))\n",
    "val_size = len(train_dataset) - train_size\n",
    "train_data, val_data = random_split(train_dataset, [train_size, val_size])"
   ]
  },
  {
   "cell_type": "code",
   "execution_count": null,
   "id": "5ca84e56",
   "metadata": {
    "executionInfo": {
     "elapsed": 391,
     "status": "ok",
     "timestamp": 1753379745943,
     "user": {
      "displayName": "Александр Андреев",
      "userId": "17331427601372382696"
     },
     "user_tz": -180
    },
    "id": "5ca84e56"
   },
   "outputs": [],
   "source": [
    "import torchvision.models as models\n",
    "from torchvision.models import ResNet34_Weights, resnet34\n",
    "\n",
    "model = models.resnet34(weights=ResNet34_Weights.IMAGENET1K_V1)\n",
    "in_features = model.fc.in_features\n",
    "model.fc = nn.Linear(in_features, n_classes)\n",
    "\n",
    "for name, param in model.named_parameters():\n",
    "    if 'layer4' not in name and 'fc' not in name:\n",
    "        param.requires_grad = False\n",
    "\n"
   ]
  },
  {
   "cell_type": "code",
   "execution_count": null,
   "id": "3704b099",
   "metadata": {
    "colab": {
     "base_uri": "https://localhost:8080/"
    },
    "executionInfo": {
     "elapsed": 467870,
     "status": "ok",
     "timestamp": 1753380243582,
     "user": {
      "displayName": "Александр Андреев",
      "userId": "17331427601372382696"
     },
     "user_tz": -180
    },
    "id": "3704b099",
    "outputId": "f8c79b0b-21d1-4a84-ff8b-479ef9d266db"
   },
   "outputs": [],
   "source": [
    "resnet34 = model.to(DEVICE)\n",
    "\n",
    "optimiser = torch.optim.Adam(resnet34.parameters(), lr=1e-3)\n",
    "criterion = torch.nn.CrossEntropyLoss()\n",
    "history = train(train_data, val_data, model=resnet34, epochs=5, batch_size=128,\n",
    "                optimiser=optimiser, criterion=criterion)"
   ]
  },
  {
   "cell_type": "code",
   "execution_count": null,
   "id": "WoPHaPRGuMUz",
   "metadata": {
    "colab": {
     "base_uri": "https://localhost:8080/",
     "height": 566
    },
    "executionInfo": {
     "elapsed": 98,
     "status": "ok",
     "timestamp": 1753380243664,
     "user": {
      "displayName": "Александр Андреев",
      "userId": "17331427601372382696"
     },
     "user_tz": -180
    },
    "id": "WoPHaPRGuMUz",
    "outputId": "c7fb6768-4c9d-460a-e52d-6abb223954a2"
   },
   "outputs": [],
   "source": [
    "loss, acc, val_loss, val_acc = zip(*history)\n",
    "plt.figure(figsize=(15, 9))\n",
    "plt.plot(loss, label=\"train_loss\")\n",
    "plt.plot(val_loss, label=\"val_loss\")\n",
    "plt.legend(loc='best')\n",
    "plt.xlabel(\"epochs\")\n",
    "plt.ylabel(\"loss\")\n",
    "plt.show()"
   ]
  },
  {
   "cell_type": "code",
   "execution_count": null,
   "id": "d5cdeca7",
   "metadata": {
    "executionInfo": {
     "elapsed": 162,
     "status": "ok",
     "timestamp": 1753380243830,
     "user": {
      "displayName": "Александр Андреев",
      "userId": "17331427601372382696"
     },
     "user_tz": -180
    },
    "id": "d5cdeca7"
   },
   "outputs": [],
   "source": [
    "torch.save(resnet34.state_dict(), \"model_weights.pth\")"
   ]
  },
  {
   "cell_type": "code",
   "execution_count": null,
   "id": "vKayL5pQ1kDN",
   "metadata": {
    "colab": {
     "base_uri": "https://localhost:8080/"
    },
    "executionInfo": {
     "elapsed": 143,
     "status": "ok",
     "timestamp": 1753380243978,
     "user": {
      "displayName": "Александр Андреев",
      "userId": "17331427601372382696"
     },
     "user_tz": -180
    },
    "id": "vKayL5pQ1kDN",
    "outputId": "1d76d090-7158-4a16-f42a-3750dc284221"
   },
   "outputs": [],
   "source": [
    "resnet34.load_state_dict(torch.load('./model_weights.pth', map_location='mps'))\n",
    "resnet34.eval()"
   ]
  },
  {
   "cell_type": "code",
   "execution_count": null,
   "id": "219f54cd",
   "metadata": {
    "colab": {
     "base_uri": "https://localhost:8080/",
     "height": 238
    },
    "executionInfo": {
     "elapsed": 52,
     "status": "ok",
     "timestamp": 1753380243984,
     "user": {
      "displayName": "Александр Андреев",
      "userId": "17331427601372382696"
     },
     "user_tz": -180
    },
    "id": "219f54cd",
    "outputId": "58427447-e23c-4c6f-8e71-7ee0d94f84a4"
   },
   "outputs": [],
   "source": [
    "final_test = pd.read_csv('../data/gtsrb/GT-final_test.csv', sep=';')\n",
    "final_labels = final_test.ClassId\n",
    "final_labels[:5]"
   ]
  },
  {
   "cell_type": "code",
   "execution_count": null,
   "id": "2f13e469",
   "metadata": {
    "colab": {
     "base_uri": "https://localhost:8080/",
     "height": 942
    },
    "executionInfo": {
     "elapsed": 1665,
     "status": "ok",
     "timestamp": 1753380245652,
     "user": {
      "displayName": "Александр Андреев",
      "userId": "17331427601372382696"
     },
     "user_tz": -180
    },
    "id": "2f13e469",
    "outputId": "dc7a7ea8-19d7-4e12-8cb9-8d1798b08bd4"
   },
   "outputs": [],
   "source": [
    "import torchvision.transforms.functional as Fu\n",
    "inputs, classes = next(iter(test_loader))\n",
    "\n",
    "fig, ax = plt.subplots(3, 3, figsize=(12, 12))\n",
    "\n",
    "imgs_idx = np.random.randint(1, 100, 9)\n",
    "print(imgs_idx)\n",
    "row = 1\n",
    "\n",
    "for i in range(9):\n",
    "    img = inputs[i]\n",
    "    label = classes[i].item()\n",
    "    # ax[i % 3][row - 1].imshow(img)\n",
    "    # ax[i % 3][row - 1].set_title(classes_names[str(label)])\n",
    "    imshow(img, title=str(label), plt_ax=ax[i % 3][row - 1])\n",
    "    if (i + 1) % 3 == 0: row+=1\n"
   ]
  },
  {
   "cell_type": "code",
   "execution_count": null,
   "id": "5542d7d1",
   "metadata": {
    "executionInfo": {
     "elapsed": 38802,
     "status": "ok",
     "timestamp": 1753380284467,
     "user": {
      "displayName": "Александр Андреев",
      "userId": "17331427601372382696"
     },
     "user_tz": -180
    },
    "id": "5542d7d1"
   },
   "outputs": [],
   "source": [
    "preds = predict(resnet34,test_loader, device=\"mps\")"
   ]
  },
  {
   "cell_type": "code",
   "execution_count": null,
   "id": "89e83519",
   "metadata": {
    "colab": {
     "base_uri": "https://localhost:8080/"
    },
    "executionInfo": {
     "elapsed": 120,
     "status": "ok",
     "timestamp": 1753380284600,
     "user": {
      "displayName": "Александр Андреев",
      "userId": "17331427601372382696"
     },
     "user_tz": -180
    },
    "id": "89e83519",
    "outputId": "625f1766-0769-492a-fac0-06b391034ccd"
   },
   "outputs": [],
   "source": [
    "preds"
   ]
  },
  {
   "cell_type": "code",
   "execution_count": null,
   "id": "deaca12a",
   "metadata": {
    "colab": {
     "base_uri": "https://localhost:8080/"
    },
    "executionInfo": {
     "elapsed": 93,
     "status": "ok",
     "timestamp": 1753380284607,
     "user": {
      "displayName": "Александр Андреев",
      "userId": "17331427601372382696"
     },
     "user_tz": -180
    },
    "id": "deaca12a",
    "outputId": "41e12177-4a91-429d-808a-4d267a019976"
   },
   "outputs": [],
   "source": [
    "from sklearn.metrics import accuracy_score, f1_score\n",
    "\n",
    "score = accuracy_score(final_labels, preds)\n",
    "score"
   ]
  },
  {
   "cell_type": "code",
   "execution_count": null,
   "id": "97ce65f3",
   "metadata": {
    "executionInfo": {
     "elapsed": 65,
     "status": "ok",
     "timestamp": 1753380284610,
     "user": {
      "displayName": "Александр Андреев",
      "userId": "17331427601372382696"
     },
     "user_tz": -180
    },
    "id": "97ce65f3"
   },
   "outputs": [],
   "source": [
    "f_1 = f1_score(final_labels, preds, average='weighted')"
   ]
  },
  {
   "cell_type": "code",
   "execution_count": null,
   "id": "-W2ueiiGhvL6",
   "metadata": {
    "colab": {
     "base_uri": "https://localhost:8080/"
    },
    "executionInfo": {
     "elapsed": 51,
     "status": "ok",
     "timestamp": 1753380284613,
     "user": {
      "displayName": "Александр Андреев",
      "userId": "17331427601372382696"
     },
     "user_tz": -180
    },
    "id": "-W2ueiiGhvL6",
    "outputId": "c6fe212e-1e02-434c-e0f7-1ede79641d27"
   },
   "outputs": [],
   "source": [
    "f_1"
   ]
  },
  {
   "cell_type": "code",
   "execution_count": null,
   "id": "iCKQviV7hv3Z",
   "metadata": {
    "id": "iCKQviV7hv3Z"
   },
   "outputs": [],
   "source": [
    "example_input = torch.rand(1, 3, 224, 224).to(DEVICE)\n",
    "torch.onnx.export(resnet34, \n",
    "                  example_input, \n",
    "                  '../data/model/resnet34_gtsrb.onnx',\n",
    "                  input_names=[\"input\"],\n",
    "                  output_names=[\"output\"],\n",
    "                  opset_version=11,\n",
    "                  dynamic_axes={\"input\": {0: \"batch_size\"}, \"output\": {0: \"batch_size\"}}\n",
    "                  )"
   ]
  },
  {
   "cell_type": "code",
   "execution_count": null,
   "id": "95b9bf44",
   "metadata": {},
   "outputs": [],
   "source": []
  }
 ],
 "metadata": {
  "accelerator": "GPU",
  "colab": {
   "gpuType": "T4",
   "provenance": []
  },
  "kernelspec": {
   "display_name": "venv",
   "language": "python",
   "name": "python3"
  },
  "language_info": {
   "codemirror_mode": {
    "name": "ipython",
    "version": 3
   },
   "file_extension": ".py",
   "mimetype": "text/x-python",
   "name": "python",
   "nbconvert_exporter": "python",
   "pygments_lexer": "ipython3",
   "version": "3.13.5"
  }
 },
 "nbformat": 4,
 "nbformat_minor": 5
}
